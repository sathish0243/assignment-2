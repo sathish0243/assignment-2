{
  "nbformat": 4,
  "nbformat_minor": 0,
  "metadata": {
    "colab": {
      "provenance": [],
      "include_colab_link": true
    },
    "kernelspec": {
      "name": "python3",
      "display_name": "Python 3"
    },
    "language_info": {
      "name": "python"
    }
  },
  "cells": [
    {
      "cell_type": "markdown",
      "metadata": {
        "id": "view-in-github",
        "colab_type": "text"
      },
      "source": [
        "<a href=\"https://colab.research.google.com/github/sathish0243/assignment-2/blob/main/numpy.ipynb\" target=\"_parent\"><img src=\"https://colab.research.google.com/assets/colab-badge.svg\" alt=\"Open In Colab\"/></a>"
      ]
    },
    {
      "cell_type": "code",
      "source": [
        "#1. Explain the purpose and advantages of NumPy in scientific computing and data analysis. How does it\n",
        "#enhance Python's capabilities for numerical operations?"
      ],
      "metadata": {
        "id": "A4OPTBUdZpWK"
      },
      "execution_count": null,
      "outputs": []
    },
    {
      "cell_type": "code",
      "source": [
        "#numpy is useful tool in python to calculate fast in arthamatic operation.\n",
        "#It offers powerful features for working with multidimensional arrays and performing various mathematical operations efficiently.\n",
        "#NumPy's core is written in C, making it much faster than pure Python for numerical operations.\n",
        "#NumPy includes functions for computing FFTs, which are crucial in signal processing and many other fields."
      ],
      "metadata": {
        "id": "dRse-1KTZt4J"
      },
      "execution_count": null,
      "outputs": []
    },
    {
      "cell_type": "code",
      "source": [
        "#2. Compare and contrast np.mean() and np.average() functions in NumPy. When would you use one over the\n",
        "#other?"
      ],
      "metadata": {
        "id": "PX8FBJB5bfp4"
      },
      "execution_count": null,
      "outputs": []
    },
    {
      "cell_type": "code",
      "source": [
        "#np.name() calculate the arthamatic mean of the array elements.\n",
        "#Simple average without any weighting.\n",
        "#np.average(): Calculates a weighted average of array elements.\n",
        "#Can compute a simple average if no weights are provided"
      ],
      "metadata": {
        "id": "ZbGqzDvwcIFA"
      },
      "execution_count": null,
      "outputs": []
    },
    {
      "cell_type": "code",
      "source": [
        "#3. Describe the methods for reversing a NumPy array along different axes. Provide examples for 1D and 2D\n",
        "#arrays."
      ],
      "metadata": {
        "id": "hUIjy119co61"
      },
      "execution_count": null,
      "outputs": []
    },
    {
      "cell_type": "code",
      "source": [
        "#numpy.flip():\n",
        "#numpy.flipud()\n",
        "#numpy.fliplr():\n",
        "#Array slicing:\n",
        "#these are the methods for reversing a numpy array along different axes."
      ],
      "metadata": {
        "id": "U9hdWc9CdsT1"
      },
      "execution_count": null,
      "outputs": []
    },
    {
      "cell_type": "code",
      "source": [
        "#4. How can you determine the data type of elements in a NumPy array? Discuss the importance of data types\n",
        "#in memory management and performance."
      ],
      "metadata": {
        "id": "2JZu91RkeQDB"
      },
      "execution_count": null,
      "outputs": []
    },
    {
      "cell_type": "code",
      "source": [
        "#Using the dtype attribute:\n",
        " #The most straightforward way is to use the dtype attribute of the array.\n",
        "#This returns the type of the array object, not the data type of its elements.\n",
        "#c) Using numpy.info() function:\n",
        "#This provides detailed information about the array, including its data type.\n",
        "#The importance of data types\n",
        "#memory usage , computation speed\n",
        "#Memory alignment:\n",
        "#Be aware of potential overflow issues when using smaller integer types.\n",
        "#Use astype() method to safely convert between data types when necessary.\n",
        "#Be cautious with mixed-type operations, as they can lead to unexpected type promotions."
      ],
      "metadata": {
        "id": "RwSR8Kikedq3"
      },
      "execution_count": null,
      "outputs": []
    },
    {
      "cell_type": "code",
      "source": [
        "#5. Define ndarrays in NumPy and explain their key features. How do they differ from standard Python lists?"
      ],
      "metadata": {
        "id": "ue7ngT35goDM"
      },
      "execution_count": null,
      "outputs": []
    },
    {
      "cell_type": "code",
      "source": [
        "#An ndarray (n-dimensional array) is the fundamental data structure in NumPy. It's a homogeneous, fixed-size, multidimensional array that can hold elements of the same data type.\n",
        "#Key features of ndarrays:\n",
        "#homogenious\n",
        "#Multidimensional:ndarrays can have any number of dimensions, from 1D to nD.\n",
        "#Vectorization:\n",
        "#Supports element-wise operations without explicit loops, leading to faster execution.\n",
        "#Broadcasting:\n",
        "#Allows arithmetic operations between arrays of different shapes.\n",
        "#Indexing and slicing:\n",
        "#Provides powerful ways to access and modify array elements.\n",
        "#Shape and stride attributes:\n",
        "#Shape defines the size of each dimension, while stride determines the memory layout."
      ],
      "metadata": {
        "id": "3PZlaJfbgyUc"
      },
      "execution_count": null,
      "outputs": []
    },
    {
      "cell_type": "code",
      "source": [
        "#6. Analyze the performance benefits of NumPy arrays over Python lists for large-scale numerical operations."
      ],
      "metadata": {
        "id": "6v-d0kvNj0h9"
      },
      "execution_count": null,
      "outputs": []
    },
    {
      "cell_type": "code",
      "source": [
        "#Memory efficiency\n",
        "#Vectorized operations\n",
        "#Homogeneous typing\n",
        "#Broadcasting\n",
        "#Optimized algorithms\n",
        "#Memory views\n",
        "#SIMD support\n",
        "#These are the performance benifits of numpy in python."
      ],
      "metadata": {
        "id": "NM2PUAakkJZh"
      },
      "execution_count": null,
      "outputs": []
    },
    {
      "cell_type": "code",
      "source": [
        "#7. Compare vstack() and hstack() functions in NumPy. Provide examples demonstrating their usage and\n",
        "#output."
      ],
      "metadata": {
        "id": "dioNFJgaF4lr"
      },
      "execution_count": null,
      "outputs": []
    },
    {
      "cell_type": "code",
      "source": [
        "#vstack()\n",
        "# Stacks arrays vertically,Arrays must have the same shape along all but the first axis\n",
        "#Increases the number of rows,Can stack 1D arrays to create a 2D array,Adds new rows to the bottom of the array\n",
        "#Automatically promotes 1D arrays to 2D when stacking with 2D arrays,Both functions are generally fast\n",
        "#hstack()\n",
        "#Stacks arrays horizontally, Arrays must have the same shape along all but the second axis\n",
        "#Increases the number of columns,Keeps 1D arrays as 1D, extending their length,Adds new columns to the right of the array\n",
        "#Requires manual reshaping of 1D arrays to 2D when stacking with 2D,, but hstack() can be slightly slower for very.\n",
        "#These are the comparision between the vstack() and hstack()."
      ],
      "metadata": {
        "id": "YYirn-lgGBzQ"
      },
      "execution_count": null,
      "outputs": []
    },
    {
      "cell_type": "code",
      "source": [
        "#8. Explain the differences between fliplr() and flipud() methods in NumPy, including their effects on various\n",
        "#array dimensions."
      ],
      "metadata": {
        "id": "v-ifOc_XH4XG"
      },
      "execution_count": null,
      "outputs": []
    },
    {
      "cell_type": "code",
      "source": [
        "#Differences between fliplr() and flipud()\n",
        "#fliplr()\n",
        "#Flips the array left-right, reversing the order of elements along the second axis (columns),Not applicable, raises an error.\n",
        "#Reverses the order of columns.Reverses the order of elements along the second axis for each,Always operates on the second axis.\n",
        "#Both functions maintain their behavior regardless of the number of dimensions\n",
        "#flipud()\n",
        "#Flips the array up-down, reversing the order of elements along the first axis,Reverses the order of elements.\n",
        "#Reverses the order of rows,Reverses the order of \"slices\" along the first axis\n",
        "#Always operates on the first axis,Both functions maintain their behavior regardless of the number of dimensions, but their effects might be less intuitive in higher dimensions.\n",
        "#These are the difference between fliplr() and flipud().\n",
        "\n"
      ],
      "metadata": {
        "id": "Cv5QOzSxIc0N"
      },
      "execution_count": null,
      "outputs": []
    },
    {
      "cell_type": "code",
      "source": [
        "#9. Discuss the functionality of the array_split() method in NumPy. How does it handle uneven splits?"
      ],
      "metadata": {
        "id": "VMU3Q9qlJqV-"
      },
      "execution_count": null,
      "outputs": []
    },
    {
      "cell_type": "code",
      "source": [
        "#array_split() divides an array into multiple sub-arrays\n",
        "#indices_or_sections: Can be either an integer\n",
        "#indicating the number of splits or a 1-D array of sorted integers indicating split points.\n",
        "#When the split results in uneven sub-arrays, array_split() adjusts by making some sub-arrays smaller.\n",
        "#Unlike np.split(), array_split() allows for uneven division without raising an error.\n",
        "#1D arrays: Splits along the only available axis,2D arrays: Can split along rows (axis=0) or columns (axis=1),3D and higher: Can split along any specified axis.\n",
        "#Returns a list of sub-arrays.\n",
        "#Generally efficient, as it creates views of the original array rather than copying data when possible.\n",
        "#When indices_or_sections is an integer, it specifies the number of equal-sized sub-arrays.\n",
        "#When it's an array of indices, it specifies the split points directly.\n",
        "#Thses are the functionality of the arry_split() method in numpy."
      ],
      "metadata": {
        "id": "tn9EmmeCJuKV"
      },
      "execution_count": null,
      "outputs": []
    },
    {
      "cell_type": "code",
      "source": [
        "#10. Explain the concepts of vectorization and broadcasting in NumPy. How do they contribute to efficient array\n",
        "#operations?"
      ],
      "metadata": {
        "id": "ugdF8BJwK6iW"
      },
      "execution_count": null,
      "outputs": []
    },
    {
      "cell_type": "code",
      "source": [
        "#vectoraization\n",
        "#Vectorization is the process of replacing explicit loops with array operations. It allows operations to be performed on entire arrays at once, rather than element by element.\n",
        "#Greatly improves performance by leveraging optimized, compiled C code,Reduces the amount of Python interpretation overhead,Makes code more concise and often more readable.\n",
        "#Broadcasting\n",
        "#Broadcasting is a set of rules for performing operations on arrays with different shapes. It allows NumPy to perform operations on arrays of different sizes without explicitly replicating data.\n",
        "#Enables operations between arrays of different shapes where sensible,Avoids unnecessary memory allocation and copying.\n",
        "#How they contribute to efficient array operations:\n",
        "#Reduced Memory Usage,Improved Performance,Simplified Code,Flexibility,Hardware Optimization,Reduced Python Overhead,Scalability.\n",
        "#The code example in the artifact demonstrates both vectorization and broadcasting, showing performance improvements and various broadcasting scenarios."
      ],
      "metadata": {
        "id": "stsTW8Y8K_SN"
      },
      "execution_count": null,
      "outputs": []
    },
    {
      "cell_type": "markdown",
      "source": [
        "                                                                               PRACTICAL"
      ],
      "metadata": {
        "id": "NogOHngan6FG"
      }
    },
    {
      "cell_type": "code",
      "source": [
        "#1. Create a 3x3 NumPy array with random integers between 1 and 100. Then, interchange its rows and columns."
      ],
      "metadata": {
        "id": "3z-Jmeisn_Tb"
      },
      "execution_count": null,
      "outputs": []
    },
    {
      "cell_type": "code",
      "source": [
        "import numpy as np\n",
        "\n",
        "random_array = np.random.randint(1, 101, (3, 3))\n",
        "\n",
        "\n",
        "print(\"Original array:\")\n",
        "print(random_array)\n",
        "\n",
        "\n",
        "interchanged_array = random_array.T\n",
        "\n",
        "print(\"\\nInterchanged array:\")\n",
        "print(interchanged_array)"
      ],
      "metadata": {
        "id": "jQdIfbCroTu7"
      },
      "execution_count": null,
      "outputs": []
    },
    {
      "cell_type": "code",
      "source": [
        "#2. Generate a 1D NumPy array with 10 elements. Reshape it into a 2x5 array, then into a 5x2 array."
      ],
      "metadata": {
        "id": "asDj3hL0oyON"
      },
      "execution_count": null,
      "outputs": []
    },
    {
      "cell_type": "code",
      "source": [
        "import numpy as np\n",
        "\n",
        "one_d_array = np.arange(10)\n",
        "\n",
        "two_by_five_array = one_d_array.reshape(2, 5)\n",
        "\n",
        "print(\"2x5 array:\")\n",
        "print(two_by_five_array)\n",
        "\n",
        "five_by_two_array = one_d_array.reshape(5, 2)\n",
        "\n",
        "print(\"\\n5x2 array:\")\n",
        "print(five_by_two_array)"
      ],
      "metadata": {
        "id": "Ct-Uqf5do3IY"
      },
      "execution_count": null,
      "outputs": []
    },
    {
      "cell_type": "code",
      "source": [
        "#3. Create a 4x4 NumPy array with random float values. Add a border of zeros around it, resulting in a 6x6 array"
      ],
      "metadata": {
        "id": "8QWz5i8_pER_"
      },
      "execution_count": null,
      "outputs": []
    },
    {
      "cell_type": "code",
      "source": [
        "import numpy as np\n",
        "\n",
        "# Create a 4x4 NumPy array with random float values\n",
        "random_float_array = np.random.rand(4, 4)\n",
        "\n",
        "# Add a border of zeros around it\n",
        "with_border = np.pad(random_float_array, pad_width=1, mode='constant', constant_values=0)\n",
        "\n",
        "# Print the resulting 6x6 array\n",
        "print(with_border)"
      ],
      "metadata": {
        "id": "ZjzCqIdipJlS"
      },
      "execution_count": null,
      "outputs": []
    },
    {
      "cell_type": "code",
      "source": [
        "#4. Using NumPy, create an array of integers from 10 to 60 with a step of 5."
      ],
      "metadata": {
        "id": "ltSVvStspWnV"
      },
      "execution_count": null,
      "outputs": []
    },
    {
      "cell_type": "code",
      "source": [
        "import numpy as np\n",
        "\n",
        "array = np.arange(10, 61, 5)\n",
        "print(array)"
      ],
      "metadata": {
        "id": "VTdgB6tcpgvR"
      },
      "execution_count": null,
      "outputs": []
    },
    {
      "cell_type": "code",
      "source": [
        "#5. Create a NumPy array of strings ['python', 'numpy', 'pandas']. Apply different case transformations\n",
        "#(uppercase, lowercase, title case, etc.) to each element."
      ],
      "metadata": {
        "id": "1jbxVs4hpx2T"
      },
      "execution_count": null,
      "outputs": []
    },
    {
      "cell_type": "code",
      "source": [
        "import numpy as np\n",
        "\n",
        "strings = np.array(['python', 'numpy', 'pandas'])\n",
        "\n",
        "# Uppercase\n",
        "uppercase = strings.astype(str).upper()\n",
        "print(\"Uppercase:\", uppercase)\n",
        "\n",
        "# Lowercase\n",
        "lowercase = strings.astype(str).lower()\n",
        "print(\"Lowercase:\", lowercase)\n",
        "\n",
        "# Title case\n",
        "titlecase = strings.astype(str).title()\n",
        "print(\"Title case:\", titlecase)"
      ],
      "metadata": {
        "colab": {
          "base_uri": "https://localhost:8080/",
          "height": 211
        },
        "id": "8Wre7RJVp0rx",
        "outputId": "1a121897-34c7-4bbd-832e-f3bd2e05b38a"
      },
      "execution_count": 1,
      "outputs": [
        {
          "output_type": "error",
          "ename": "AttributeError",
          "evalue": "'numpy.ndarray' object has no attribute 'upper'",
          "traceback": [
            "\u001b[0;31m---------------------------------------------------------------------------\u001b[0m",
            "\u001b[0;31mAttributeError\u001b[0m                            Traceback (most recent call last)",
            "\u001b[0;32m<ipython-input-1-fa9bd48b9aad>\u001b[0m in \u001b[0;36m<cell line: 6>\u001b[0;34m()\u001b[0m\n\u001b[1;32m      4\u001b[0m \u001b[0;34m\u001b[0m\u001b[0m\n\u001b[1;32m      5\u001b[0m \u001b[0;31m# Uppercase\u001b[0m\u001b[0;34m\u001b[0m\u001b[0;34m\u001b[0m\u001b[0m\n\u001b[0;32m----> 6\u001b[0;31m \u001b[0muppercase\u001b[0m \u001b[0;34m=\u001b[0m \u001b[0mstrings\u001b[0m\u001b[0;34m.\u001b[0m\u001b[0mastype\u001b[0m\u001b[0;34m(\u001b[0m\u001b[0mstr\u001b[0m\u001b[0;34m)\u001b[0m\u001b[0;34m.\u001b[0m\u001b[0mupper\u001b[0m\u001b[0;34m(\u001b[0m\u001b[0;34m)\u001b[0m\u001b[0;34m\u001b[0m\u001b[0;34m\u001b[0m\u001b[0m\n\u001b[0m\u001b[1;32m      7\u001b[0m \u001b[0mprint\u001b[0m\u001b[0;34m(\u001b[0m\u001b[0;34m\"Uppercase:\"\u001b[0m\u001b[0;34m,\u001b[0m \u001b[0muppercase\u001b[0m\u001b[0;34m)\u001b[0m\u001b[0;34m\u001b[0m\u001b[0;34m\u001b[0m\u001b[0m\n\u001b[1;32m      8\u001b[0m \u001b[0;34m\u001b[0m\u001b[0m\n",
            "\u001b[0;31mAttributeError\u001b[0m: 'numpy.ndarray' object has no attribute 'upper'"
          ]
        }
      ]
    },
    {
      "cell_type": "code",
      "source": [
        "#5. Create a NumPy array of strings ['python', 'numpy', 'pandas']. Apply different case transformations\n",
        "#(uppercase, lowercase, title case, etc.) to each element."
      ],
      "metadata": {
        "id": "3FpV0roMraaH"
      },
      "execution_count": null,
      "outputs": []
    },
    {
      "cell_type": "code",
      "source": [
        "import numpy as np\n",
        "\n",
        "# Create a NumPy array of strings\n",
        "strings = np.array(['python', 'numpy', 'pandas'])\n",
        "\n",
        "# Apply different case transformations\n",
        "uppercase = strings.astype(str).upper()\n",
        "lowercase = strings.astype(str).lower()\n",
        "titlecase = strings.astype(str).title()\n",
        "swapcase = strings.astype(str).swapcase()\n",
        "\n",
        "# Print the results\n",
        "print(\"Uppercase:\", uppercase)\n",
        "print(\"Lowercase:\", lowercase)\n",
        "print(\"Title Case:\", titlecase)\n",
        "print(\"Swapcase:\", swapcase)"
      ],
      "metadata": {
        "id": "NCbeiaKysOSv"
      },
      "execution_count": null,
      "outputs": []
    },
    {
      "cell_type": "code",
      "source": [
        "#6. Generate a NumPy array of words. Insert a space between each character of every word in the array."
      ],
      "metadata": {
        "id": "HfAc2VRVsP6g"
      },
      "execution_count": null,
      "outputs": []
    },
    {
      "cell_type": "code",
      "source": [
        "import numpy as np\n",
        "\n",
        "words = np.array([\"apple\", \"banana\", \"orange\"])\n",
        "\n",
        "# Insert a space between each character of every word\n",
        "spaced_words = np.char.join(\" \", words)\n",
        "\n",
        "print(spaced_words)"
      ],
      "metadata": {
        "id": "QEVYF8v5sWng"
      },
      "execution_count": null,
      "outputs": []
    },
    {
      "cell_type": "code",
      "source": [
        "#7. Create two 2D NumPy arrays and perform element-wise addition, subtraction, multiplication, and division."
      ],
      "metadata": {
        "id": "t2ibQyb7szBM"
      },
      "execution_count": null,
      "outputs": []
    },
    {
      "cell_type": "code",
      "source": [
        "import numpy as np\n",
        "\n",
        "# Create two 2D NumPy arrays\n",
        "array1 = np.array([[1, 2], [3, 4]])\n",
        "array2 = np.array([[5, 6], [7, 8]])\n",
        "\n",
        "# Element-wise addition\n",
        "addition = array1 + array2\n",
        "print(\"Addition:\\n\", addition)\n",
        "\n",
        "# Element-wise subtraction\n",
        "subtraction = array1 - array2\n",
        "print(\"Subtraction:\\n\", subtraction)\n",
        "\n",
        "# Element-wise multiplication\n",
        "multiplication = array1 * array2\n",
        "print(\"Multiplication:\\n\", multiplication)\n",
        "\n",
        "# Element-wise division\n",
        "division = array1 / array2\n",
        "print(\"Division:\\n\", division)"
      ],
      "metadata": {
        "id": "VsH-PYvks2DJ"
      },
      "execution_count": null,
      "outputs": []
    },
    {
      "cell_type": "code",
      "source": [
        "#8. Use NumPy to create a 5x5 identity matrix, then extract its diagonal elements."
      ],
      "metadata": {
        "id": "Msi1IPqbs4WP"
      },
      "execution_count": null,
      "outputs": []
    },
    {
      "cell_type": "code",
      "source": [
        "import numpy as np\n",
        "\n",
        "# Create a 5x5 identity matrix\n",
        "identity_matrix = np.eye(5)\n",
        "\n",
        "# Extract the diagonal elements\n",
        "diagonal_elements = identity_matrix.diagonal()\n",
        "\n",
        "print(\"Identity Matrix:\\n\", identity_matrix)\n",
        "print(\"Diagonal Elements:\", diagonal_elements)"
      ],
      "metadata": {
        "id": "vIT-fTums92l"
      },
      "execution_count": null,
      "outputs": []
    },
    {
      "cell_type": "code",
      "source": [
        "#9. Generate a NumPy array of 100 random integers between 0 and 1000. Find and display all prime numbers in\n",
        "#this array."
      ],
      "metadata": {
        "id": "xchX5X37s_Sb"
      },
      "execution_count": null,
      "outputs": []
    },
    {
      "cell_type": "code",
      "source": [
        "import numpy as np\n",
        "\n",
        "def is_prime(num):\n",
        "    \"\"\"Checks if a number is prime.\"\"\"\n",
        "    if num <= 1:\n",
        "        return False\n",
        "    if num <= 3:\n",
        "        return True\n",
        "    if num % 2 == 0 or num % 3 == 0:\n",
        "        return False\n",
        "    i = 5\n",
        "    while i * i <= num:\n",
        "        if num % i == 0 or num % (i + 2) == 0:\n",
        "            return False\n",
        "        i += 6\n",
        "    return True\n",
        "\n",
        "# Generate a NumPy array of 100 random integers between 0 and 1000\n",
        "random_numbers = np.random.randint(0, 1001, 100)\n",
        "\n",
        "# Find prime numbers in the array\n",
        "prime_numbers = np.extract(np.vectorize(is_prime)(random_numbers), random_numbers)\n",
        "\n",
        "# Display prime numbers\n",
        "print(\"Prime numbers in the array:\", prime_numbers)"
      ],
      "metadata": {
        "id": "qFKk46bmtJs0"
      },
      "execution_count": null,
      "outputs": []
    },
    {
      "cell_type": "code",
      "source": [
        "#10. Create a NumPy array representing daily temperatures for a month. Calculate and display the weekly\n",
        "#averages."
      ],
      "metadata": {
        "id": "s_Qh2d1GtTqG"
      },
      "execution_count": null,
      "outputs": []
    },
    {
      "cell_type": "code",
      "source": [
        "import numpy as np\n",
        "\n",
        "# Assuming 30 days in a month\n",
        "num_days = 30\n",
        "\n",
        "# Create a NumPy array with random temperatures\n",
        "daily_temps = np.random.randint(60, 90, num_days)\n",
        "\n",
        "# Calculate the number of weeks\n",
        "num_weeks = num_days // 7\n",
        "\n",
        "# Reshape the array to have 7 days per week\n",
        "weekly_temps = daily_temps.reshape(num_weeks, 7)\n",
        "\n",
        "# Calculate the average temperature for each week\n",
        "weekly_averages = np.mean(weekly_temps, axis=1)\n",
        "\n",
        "# Print the weekly averages\n",
        "print(\"Weekly Averages:\", weekly_averages)"
      ],
      "metadata": {
        "id": "lL3bISKztYI4"
      },
      "execution_count": null,
      "outputs": []
    }
  ]
}