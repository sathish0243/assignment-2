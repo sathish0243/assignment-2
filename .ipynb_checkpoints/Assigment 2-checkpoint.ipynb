{
 "cells": [
  {
   "cell_type": "raw",
   "id": "2db7c90a-7afc-485d-a8b6-aac6fe28b063",
   "metadata": {},
   "source": [
    "1.Dicuss string slicing and provide examples."
   ]
  },
  {
   "cell_type": "raw",
   "id": "448edf71-a840-4073-a6fe-7636fce6ac99",
   "metadata": {},
   "source": [
    "*string slicing means in a string when we areto want particular index or element by this slicing concept.\n",
    "*obtaining a part of a string"
   ]
  },
  {
   "cell_type": "code",
   "execution_count": 3,
   "id": "fb7c9d0a-e1a2-41dd-858b-a1a536f5c9bf",
   "metadata": {},
   "outputs": [
    {
     "data": {
      "text/plain": [
       "['sathsih', 'sohail', 'subbu']"
      ]
     },
     "execution_count": 3,
     "metadata": {},
     "output_type": "execute_result"
    }
   ],
   "source": [
    "a=['sathsih','sohail','subbu']\n",
    "a"
   ]
  },
  {
   "cell_type": "code",
   "execution_count": 4,
   "id": "af32d70b-bc44-4bac-9843-7625ece9f737",
   "metadata": {},
   "outputs": [
    {
     "data": {
      "text/plain": [
       "'sathsih'"
      ]
     },
     "execution_count": 4,
     "metadata": {},
     "output_type": "execute_result"
    }
   ],
   "source": [
    "a[0]"
   ]
  },
  {
   "cell_type": "raw",
   "id": "ae9948c3-6f8f-4f2c-95be-d8a753dc4b8b",
   "metadata": {},
   "source": [
    "2.Expalin the key features of lists in python."
   ]
  },
  {
   "cell_type": "raw",
   "id": "e7ee5dbe-1bdd-49ac-91f5-3576d549a6a3",
   "metadata": {},
   "source": [
    "*first lists are mutableand also lists can strore any type of data in it.\n",
    "*in lists stores string,int,char,float,etc...\n",
    "*By using square brackets lists are represent.\n",
    "*use full cases of lists is high in daily life"
   ]
  },
  {
   "cell_type": "code",
   "execution_count": 12,
   "id": "6caee4ea-814f-4aa5-885f-e610fe8791dc",
   "metadata": {},
   "outputs": [
    {
     "data": {
      "text/plain": [
       "['raju', 205, 2.3, 'ramu']"
      ]
     },
     "execution_count": 12,
     "metadata": {},
     "output_type": "execute_result"
    }
   ],
   "source": [
    "list_1=['raju',205,2.3,'ramu']\n",
    "list_1"
   ]
  },
  {
   "cell_type": "code",
   "execution_count": 13,
   "id": "81f33bab-54db-41b8-842b-fe9b279a037e",
   "metadata": {},
   "outputs": [
    {
     "data": {
      "text/plain": [
       "list"
      ]
     },
     "execution_count": 13,
     "metadata": {},
     "output_type": "execute_result"
    }
   ],
   "source": [
    "type(list_1)"
   ]
  },
  {
   "cell_type": "raw",
   "id": "8d5b7c09-9e85-4a52-a6a2-a75966f7f17b",
   "metadata": {},
   "source": [
    "3.Describe how to access,modifi,and delete elements in a lists."
   ]
  },
  {
   "cell_type": "code",
   "execution_count": 14,
   "id": "dbd1dfdb-fdac-4019-a7fc-e8cdc7543885",
   "metadata": {},
   "outputs": [
    {
     "data": {
      "text/plain": [
       "list"
      ]
     },
     "execution_count": 14,
     "metadata": {},
     "output_type": "execute_result"
    }
   ],
   "source": [
    "#access a element in a lists\n",
    "list=['r',20,2.5,'k']\n",
    "type(list)"
   ]
  },
  {
   "cell_type": "code",
   "execution_count": 15,
   "id": "8f336516-38da-4891-878e-571b47a5a677",
   "metadata": {},
   "outputs": [
    {
     "data": {
      "text/plain": [
       "'r'"
      ]
     },
     "execution_count": 15,
     "metadata": {},
     "output_type": "execute_result"
    }
   ],
   "source": [
    "list[0]"
   ]
  },
  {
   "cell_type": "code",
   "execution_count": 16,
   "id": "4cf0daf0-1162-447d-ace8-aeac9f1ef9d5",
   "metadata": {},
   "outputs": [
    {
     "data": {
      "text/plain": [
       "'k'"
      ]
     },
     "execution_count": 16,
     "metadata": {},
     "output_type": "execute_result"
    }
   ],
   "source": [
    "list[3]"
   ]
  },
  {
   "cell_type": "code",
   "execution_count": 20,
   "id": "0dc1645b-e042-4f44-b835-58f6d306929a",
   "metadata": {},
   "outputs": [
    {
     "data": {
      "text/plain": [
       "list"
      ]
     },
     "execution_count": 20,
     "metadata": {},
     "output_type": "execute_result"
    }
   ],
   "source": [
    "#modife a \n",
    "a=['ramu',2.5,1,'ramu']\n",
    "type(a)"
   ]
  },
  {
   "cell_type": "code",
   "execution_count": 21,
   "id": "698c6a64-1ef0-4e8a-a8f6-4fff6183bae6",
   "metadata": {},
   "outputs": [
    {
     "data": {
      "text/plain": [
       "'ramu'"
      ]
     },
     "execution_count": 21,
     "metadata": {},
     "output_type": "execute_result"
    }
   ],
   "source": [
    "a[0]"
   ]
  },
  {
   "cell_type": "code",
   "execution_count": 25,
   "id": "383d60bc-e392-4cb4-88b9-40e5a6592d1f",
   "metadata": {},
   "outputs": [],
   "source": [
    "a.append('kalkhi')"
   ]
  },
  {
   "cell_type": "code",
   "execution_count": 27,
   "id": "5ac35805-0eb7-49f8-8562-10b37de020cb",
   "metadata": {},
   "outputs": [
    {
     "data": {
      "text/plain": [
       "['ramu', 2.5, 1, 'ramu', 'kalkhi']"
      ]
     },
     "execution_count": 27,
     "metadata": {},
     "output_type": "execute_result"
    }
   ],
   "source": [
    "a"
   ]
  },
  {
   "cell_type": "code",
   "execution_count": 29,
   "id": "51dfc590-21d1-421e-8845-c7cd312f5b8d",
   "metadata": {},
   "outputs": [
    {
     "data": {
      "text/plain": [
       "['ramu', 2.5, 1, 'ramu', 'kalkhi']"
      ]
     },
     "execution_count": 29,
     "metadata": {},
     "output_type": "execute_result"
    }
   ],
   "source": [
    "a"
   ]
  },
  {
   "cell_type": "code",
   "execution_count": 33,
   "id": "c0e9478b-f16d-48be-a2e4-1dd60294dbbe",
   "metadata": {},
   "outputs": [],
   "source": [
    "#delete the elements in list\n",
    "a.remove('ramu')"
   ]
  },
  {
   "cell_type": "code",
   "execution_count": 34,
   "id": "a9d0c32d-3763-4f9d-8b3a-6cbf285e98ce",
   "metadata": {},
   "outputs": [
    {
     "data": {
      "text/plain": [
       "[2.5, 1, 'kalkhi']"
      ]
     },
     "execution_count": 34,
     "metadata": {},
     "output_type": "execute_result"
    }
   ],
   "source": [
    "a"
   ]
  },
  {
   "cell_type": "raw",
   "id": "2592c189-f131-478b-80a1-935f80030f95",
   "metadata": {},
   "source": [
    "4.Compare and contrast tuples and lists with examples."
   ]
  },
  {
   "cell_type": "raw",
   "id": "04e5369d-3693-423f-9053-ada3433f06d7",
   "metadata": {},
   "source": [
    "#Tuples\n",
    "*Tuples are immutable \n",
    "*In tuples we use paranthasis\n",
    "*IT stores the hetrogenious data"
   ]
  },
  {
   "cell_type": "code",
   "execution_count": 36,
   "id": "e1fc08da-2772-48bf-9dd8-078560ec49d2",
   "metadata": {},
   "outputs": [
    {
     "data": {
      "text/plain": [
       "tuple"
      ]
     },
     "execution_count": 36,
     "metadata": {},
     "output_type": "execute_result"
    }
   ],
   "source": [
    "#Tuples\n",
    "t=(91,2.5,'come','go')\n",
    "type(t)"
   ]
  },
  {
   "cell_type": "raw",
   "id": "9c04e78e-8b10-4216-ac27-d60274d93c81",
   "metadata": {},
   "source": [
    "#Lists\n",
    "*lists are mutable\n",
    "*By using the square brackets lists are represented\n",
    "*lists also stores the hetrogenious data"
   ]
  },
  {
   "cell_type": "code",
   "execution_count": 37,
   "id": "32729fd8-822f-4e08-b029-4c27c66a2a64",
   "metadata": {},
   "outputs": [
    {
     "data": {
      "text/plain": [
       "list"
      ]
     },
     "execution_count": 37,
     "metadata": {},
     "output_type": "execute_result"
    }
   ],
   "source": [
    "#Lists\n",
    "L=[91,2.5,'come','go']\n",
    "type(L)"
   ]
  },
  {
   "cell_type": "raw",
   "id": "6826c563-17aa-4bdd-99f2-736642f4ff8e",
   "metadata": {},
   "source": [
    "5.Discribes the key features of sets and provide examples of there uses."
   ]
  },
  {
   "cell_type": "raw",
   "id": "97aa1ed4-3a7e-4c35-8321-a7c5cfa0b2c4",
   "metadata": {},
   "source": [
    "#sets \n",
    "*sets are unorderd collection of uniqe element.\n",
    "*By using the flower brackets we represent the sets\n",
    "*sets are mutable\n",
    "* we can not access the elements in the sets"
   ]
  },
  {
   "cell_type": "code",
   "execution_count": 38,
   "id": "5dbc1dde-627b-429b-b922-2135db0e585f",
   "metadata": {},
   "outputs": [
    {
     "data": {
      "text/plain": [
       "set"
      ]
     },
     "execution_count": 38,
     "metadata": {},
     "output_type": "execute_result"
    }
   ],
   "source": [
    "#sets\n",
    "s={'apple','orange','kivi'}\n",
    "type(s)"
   ]
  },
  {
   "cell_type": "code",
   "execution_count": 39,
   "id": "4a960de1-3094-4240-9ea4-04707cbe4539",
   "metadata": {},
   "outputs": [],
   "source": [
    "#add\n",
    "s.add(5)"
   ]
  },
  {
   "cell_type": "code",
   "execution_count": 43,
   "id": "5ca9d32b-0c29-4579-8b63-475f6a2df743",
   "metadata": {},
   "outputs": [
    {
     "data": {
      "text/plain": [
       "{5, 'apple', 'kivi', 'orange'}"
      ]
     },
     "execution_count": 43,
     "metadata": {},
     "output_type": "execute_result"
    }
   ],
   "source": [
    "s"
   ]
  },
  {
   "cell_type": "code",
   "execution_count": 44,
   "id": "c76ea6ee-d8e9-47fd-b69e-f5f23ec1b5b5",
   "metadata": {},
   "outputs": [
    {
     "data": {
      "text/plain": [
       "{'apple', 'kivi', 'orange'}"
      ]
     },
     "execution_count": 44,
     "metadata": {},
     "output_type": "execute_result"
    }
   ],
   "source": [
    "#remove\n",
    "s.remove(5)\n",
    "s"
   ]
  },
  {
   "cell_type": "code",
   "execution_count": 45,
   "id": "1f8351e3-3445-4c01-aa10-561c6374bd5e",
   "metadata": {},
   "outputs": [
    {
     "data": {
      "text/plain": [
       "<function set.update>"
      ]
     },
     "execution_count": 45,
     "metadata": {},
     "output_type": "execute_result"
    }
   ],
   "source": [
    "#update\n",
    "s.update"
   ]
  },
  {
   "cell_type": "raw",
   "id": "c0db7d0a-0274-4977-8692-eb38791cedd9",
   "metadata": {},
   "source": [
    "6.Discuss the uses of tuples and sets in python programming."
   ]
  },
  {
   "cell_type": "code",
   "execution_count": 46,
   "id": "0e23a810-d68a-42f3-95a0-5896e1a5d890",
   "metadata": {},
   "outputs": [],
   "source": [
    "#Tuples"
   ]
  },
  {
   "cell_type": "code",
   "execution_count": 47,
   "id": "1467ed6c-fbe8-4744-ae6a-f8db2c6885f3",
   "metadata": {},
   "outputs": [],
   "source": [
    "##Tuples\n",
    "#Tuples are immutable \n",
    "#In tuples we use paranthasis\n",
    "#IT stores the hetrogenious data"
   ]
  },
  {
   "cell_type": "raw",
   "id": "4dd9ca83-21dc-467f-b111-a32e755fb517",
   "metadata": {},
   "source": [
    "t=(91,2.5,'come','go')\n",
    "type(t)"
   ]
  },
  {
   "cell_type": "code",
   "execution_count": 49,
   "id": "611203bb-030e-4608-9f58-840aa18e155b",
   "metadata": {},
   "outputs": [
    {
     "data": {
      "text/plain": [
       "tuple"
      ]
     },
     "execution_count": 49,
     "metadata": {},
     "output_type": "execute_result"
    }
   ],
   "source": [
    "# tuples are used to store the hetrogeniois data\n",
    "t=(91,2.5,'come','go',5+6j)\n",
    "type(t)"
   ]
  },
  {
   "cell_type": "code",
   "execution_count": 50,
   "id": "aa6e35a9-2d4f-4bda-b36b-5e34473aeac4",
   "metadata": {},
   "outputs": [],
   "source": [
    "#store multiple items in a single variable"
   ]
  },
  {
   "cell_type": "raw",
   "id": "0b53e0b1-804e-4375-95d2-8e362e00c88e",
   "metadata": {},
   "source": [
    "#sets\n",
    "*sets are unordered collection of elements"
   ]
  },
  {
   "cell_type": "code",
   "execution_count": 1,
   "id": "cffb16b1-ddbd-4fc6-9103-1725fad2c7b4",
   "metadata": {},
   "outputs": [
    {
     "data": {
      "text/plain": [
       "set"
      ]
     },
     "execution_count": 1,
     "metadata": {},
     "output_type": "execute_result"
    }
   ],
   "source": [
    "set={'orange','red','blue'}\n",
    "type(set)"
   ]
  },
  {
   "cell_type": "raw",
   "id": "90d0ce1f-f134-4e53-af08-a956e4b887fe",
   "metadata": {},
   "source": [
    "7.Dicscribe how to add,modify,and delete items in dictionary with examples."
   ]
  },
  {
   "cell_type": "code",
   "execution_count": 2,
   "id": "34d86c95-b0a4-4fb5-be6d-85b7114457f3",
   "metadata": {},
   "outputs": [
    {
     "data": {
      "text/plain": [
       "{'name': 'sathish', 'age': 20, 'cell': 798955500}"
      ]
     },
     "execution_count": 2,
     "metadata": {},
     "output_type": "execute_result"
    }
   ],
   "source": [
    "#dictionary stores the data as a key value data\n",
    "d={'name':'sathish','age':20,'cell':798955500}\n",
    "d"
   ]
  },
  {
   "cell_type": "code",
   "execution_count": 3,
   "id": "508a5a7c-419a-4f5d-afe5-f3641faf7f82",
   "metadata": {},
   "outputs": [
    {
     "data": {
      "text/plain": [
       "dict"
      ]
     },
     "execution_count": 3,
     "metadata": {},
     "output_type": "execute_result"
    }
   ],
   "source": [
    "type(d)"
   ]
  },
  {
   "cell_type": "code",
   "execution_count": 4,
   "id": "f4fb8a05-41d5-4abe-8a54-98b876d2f3ea",
   "metadata": {},
   "outputs": [
    {
     "data": {
      "text/plain": [
       "{'name': 'nam', 'age': 20, 'cell': 798955500}"
      ]
     },
     "execution_count": 4,
     "metadata": {},
     "output_type": "execute_result"
    }
   ],
   "source": [
    "#add\n",
    "d['name']='nam'\n",
    "d"
   ]
  },
  {
   "cell_type": "code",
   "execution_count": 10,
   "id": "e13014c9-98fe-4baa-9b10-1c180ae9fffc",
   "metadata": {},
   "outputs": [
    {
     "name": "stdout",
     "output_type": "stream",
     "text": [
      "Alice\n",
      "{'name': 'Alice', 'age': 31, 'city': 'New York'}\n"
     ]
    }
   ],
   "source": [
    "#modify\n",
    "my_dict = {'name': 'Alice', 'age': 30, 'city': 'New York'}\n",
    "\n",
    "name = my_dict['name']\n",
    "print(name)\n",
    "my_dict['age'] = 31\n",
    "print(my_dict) "
   ]
  },
  {
   "cell_type": "code",
   "execution_count": 11,
   "id": "69139d3d-3d70-4e78-b36b-8ff99766c998",
   "metadata": {},
   "outputs": [
    {
     "name": "stdout",
     "output_type": "stream",
     "text": [
      "{'name': 'Alice', 'age': 31}\n"
     ]
    }
   ],
   "source": [
    "#Delete\n",
    "del my_dict['city']\n",
    "print(my_dict)"
   ]
  },
  {
   "cell_type": "raw",
   "id": "34328aa1-7a5c-44c9-9458-28145021e383",
   "metadata": {},
   "source": [
    "8.Discuss the importance of dictionary keys being immutable and provide examples."
   ]
  },
  {
   "cell_type": "code",
   "execution_count": 12,
   "id": "a5fdf555-f18c-4154-acfb-c0c674a48e5c",
   "metadata": {},
   "outputs": [],
   "source": [
    "#dictionary keys are immutable we can not change\n",
    "#the use case are atm,bank,roll calls etc.."
   ]
  },
  {
   "cell_type": "code",
   "execution_count": 15,
   "id": "5c97821f-036d-40ae-9b6f-6f546f264b59",
   "metadata": {},
   "outputs": [
    {
     "name": "stdout",
     "output_type": "stream",
     "text": [
      "Alice\n",
      "Bob\n",
      "Charlie\n"
     ]
    }
   ],
   "source": [
    "my_dict = {\n",
    "    \"name\": \"Alice\",\n",
    "    123: \"Bob\",\n",
    "    (1, 2): \"Charlie\"\n",
    "}\n",
    "print(my_dict[\"name\"])\n",
    "print(my_dict[123])  \n",
    "print(my_dict[(1, 2)])"
   ]
  },
  {
   "cell_type": "code",
   "execution_count": null,
   "id": "06613f8f-86ef-43c0-a2cd-ef17bd5ac98e",
   "metadata": {},
   "outputs": [],
   "source": []
  }
 ],
 "metadata": {
  "kernelspec": {
   "display_name": "Python 3 (ipykernel)",
   "language": "python",
   "name": "python3"
  },
  "language_info": {
   "codemirror_mode": {
    "name": "ipython",
    "version": 3
   },
   "file_extension": ".py",
   "mimetype": "text/x-python",
   "name": "python",
   "nbconvert_exporter": "python",
   "pygments_lexer": "ipython3",
   "version": "3.10.8"
  }
 },
 "nbformat": 4,
 "nbformat_minor": 5
}
