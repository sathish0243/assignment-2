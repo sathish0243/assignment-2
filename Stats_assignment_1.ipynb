{
  "cells": [
    {
      "cell_type": "markdown",
      "metadata": {
        "id": "view-in-github",
        "colab_type": "text"
      },
      "source": [
        "<a href=\"https://colab.research.google.com/github/sathish0243/assignment-2/blob/main/Stats_assignment_1.ipynb\" target=\"_parent\"><img src=\"https://colab.research.google.com/assets/colab-badge.svg\" alt=\"Open In Colab\"/></a>"
      ]
    },
    {
      "cell_type": "code",
      "execution_count": null,
      "id": "a7553167-ae46-498c-9c8c-ff4231a5666c",
      "metadata": {
        "id": "a7553167-ae46-498c-9c8c-ff4231a5666c"
      },
      "outputs": [],
      "source": [
        "#1. Explain the different types of data (qualitative and quantitative) and provide examples of each. Discuss nominal, ordinal, interval, and ratio scales."
      ]
    },
    {
      "cell_type": "code",
      "execution_count": null,
      "id": "948d5bb4-66ce-401b-bdfd-2fc7c71bdbb3",
      "metadata": {
        "id": "948d5bb4-66ce-401b-bdfd-2fc7c71bdbb3"
      },
      "outputs": [],
      "source": [
        "#Qualitative data: This type of data describes qualities or characteristics. It's further categorized into:\n",
        "\n",
        "#Nominal data: Unordered categories with no inherent ranking.\n",
        "#Example: Hair color (black, brown, blonde), favorite color (red, blue, green).\n",
        "#Ordinal data: Categories with a natural order or ranking, but the differences between categories may not be equal.\n",
        "#Example: Educational level"
      ]
    },
    {
      "cell_type": "code",
      "execution_count": null,
      "id": "a0e7e276-6f81-4a45-9dff-46ab2b1bd3e1",
      "metadata": {
        "id": "a0e7e276-6f81-4a45-9dff-46ab2b1bd3e1"
      },
      "outputs": [],
      "source": [
        "#2. What are the measures of central tendency, and when should you use each? Discuss the mean, median, and mode with examples and situations where each is appropriate."
      ]
    },
    {
      "cell_type": "code",
      "execution_count": null,
      "id": "7f9efac6-fa93-4322-b8c0-3171096511d1",
      "metadata": {
        "id": "7f9efac6-fa93-4322-b8c0-3171096511d1"
      },
      "outputs": [],
      "source": [
        "#Measures of central tendency provide a single value to represent the center of a dataset. The most common ones are:\n",
        "#Mean (average): The sum of all values divided by the number of values. Use when the data is normally distributed without outliers.\n",
        "#Example: Average test score in a class.\n",
        "#Median: The middle value when data is sorted in ascending order. Use when there are outliers or the data is skewed.\n",
        "#Example: Median house price in a neighborhood.\n",
        "#Mode: The most frequently occurring value. Use to identify the most common category or value.\n",
        "#Example: Most popular car color in a region."
      ]
    },
    {
      "cell_type": "code",
      "execution_count": null,
      "id": "587cb9a0-de35-443c-8a44-b6994b068237",
      "metadata": {
        "id": "587cb9a0-de35-443c-8a44-b6994b068237"
      },
      "outputs": [],
      "source": [
        "#3. Explain the concept of dispersion. How do variance and standard deviation measure the spread of data?"
      ]
    },
    {
      "cell_type": "code",
      "execution_count": null,
      "id": "160093f8-7b70-4391-80b6-c9f5abbc246b",
      "metadata": {
        "id": "160093f8-7b70-4391-80b6-c9f5abbc246b"
      },
      "outputs": [],
      "source": [
        "#Dispersion measures how spread out the data is from the center. The two main measures are:\n",
        "#Variance: The average squared deviation from the mean. It gives an idea of the overall spread but is not in the same units as the data.\n",
        "#Standard deviation: The square root of variance. It's in the same units as the data, making it easier to interpret the spread in relation to the mean."
      ]
    },
    {
      "cell_type": "code",
      "execution_count": null,
      "id": "381562df-3667-4620-b6b0-d26a99dba6e4",
      "metadata": {
        "id": "381562df-3667-4620-b6b0-d26a99dba6e4"
      },
      "outputs": [],
      "source": [
        "#4. What is a box plot, and what can it tell you about the distribution of data?"
      ]
    },
    {
      "cell_type": "code",
      "execution_count": null,
      "id": "380df6a7-de48-4726-b237-97e04ad9fa0d",
      "metadata": {
        "id": "380df6a7-de48-4726-b237-97e04ad9fa0d"
      },
      "outputs": [],
      "source": [
        "#A box plot is a visual representation of data distribution. It shows:\n",
        "#Median (the line within the box)\n",
        "#Quartiles (25th and 75th percentiles, forming the box)\n",
        "#Whiskers (showing the range of data, excluding outliers)\n",
        "#Outliers (data points beyond the whiskers)\n",
        "#It helps to identify:\n",
        "#* Center (median)\n",
        "#* Spread (interquartile range)\n",
        "#* Skewness (asymmetry of the box)\n",
        "#* Outliers"
      ]
    },
    {
      "cell_type": "code",
      "execution_count": null,
      "id": "a4ca935f-a641-4892-8488-2bbb705d180c",
      "metadata": {
        "id": "a4ca935f-a641-4892-8488-2bbb705d180c"
      },
      "outputs": [],
      "source": [
        "5. Discuss the role of random sampling in making inferences about populations."
      ]
    },
    {
      "cell_type": "code",
      "execution_count": null,
      "id": "c8b6ead1-0945-4060-84b8-4888bde0a0af",
      "metadata": {
        "id": "c8b6ead1-0945-4060-84b8-4888bde0a0af"
      },
      "outputs": [],
      "source": [
        "Random sampling is crucial for making accurate inferences about a population from a sample. It ensures that each member of the population has an equal chance of being selected, reducing bias and increasing the representativeness of the sample."
      ]
    },
    {
      "cell_type": "code",
      "execution_count": null,
      "id": "3b7d1794-35e5-435f-b39d-40c539459016",
      "metadata": {
        "id": "3b7d1794-35e5-435f-b39d-40c539459016"
      },
      "outputs": [],
      "source": [
        "6. Explain the concept of skewness and its types. How does skewness affect the interpretation of data?"
      ]
    },
    {
      "cell_type": "code",
      "execution_count": null,
      "id": "53b3b113-8b99-445c-a4cc-6efcea1d53e6",
      "metadata": {
        "id": "53b3b113-8b99-445c-a4cc-6efcea1d53e6"
      },
      "outputs": [],
      "source": [
        "Skewness measures the asymmetry of a distribution. The types are:\n",
        "Positive skewness: The tail is longer on the right side, indicating more extreme high values.\n",
        "Negative skewness: The tail is longer on the left side, indicating more extreme low values.\n",
        "Zero skewness: The distribution is symmetric."
      ]
    },
    {
      "cell_type": "code",
      "execution_count": null,
      "id": "85f064ad-0611-40bc-9ae1-4e7dc8307701",
      "metadata": {
        "id": "85f064ad-0611-40bc-9ae1-4e7dc8307701"
      },
      "outputs": [],
      "source": [
        "7. What is the interquartile range (IQR), and how is it used to detect outliers?"
      ]
    },
    {
      "cell_type": "code",
      "execution_count": null,
      "id": "f702eac1-407c-4916-917f-22e206f58213",
      "metadata": {
        "id": "f702eac1-407c-4916-917f-22e206f58213"
      },
      "outputs": [],
      "source": [
        "Interquartile range (IQR) is the difference between the 75th percentile (Q3) and the 25th percentile (Q1). It measures the spread of the middle 50% of the data.\n",
        "Outliers are typically defined as data points that are more than 1.5 times the IQR away from the nearest quartile (Q1 or Q3)."
      ]
    },
    {
      "cell_type": "code",
      "execution_count": null,
      "id": "d8c93539-67b1-4e35-80f7-2b4ece1a14c7",
      "metadata": {
        "id": "d8c93539-67b1-4e35-80f7-2b4ece1a14c7"
      },
      "outputs": [],
      "source": [
        "8. Discuss the conditions under which the binomial distribution is used."
      ]
    },
    {
      "cell_type": "code",
      "execution_count": null,
      "id": "a16f24fe-4576-494a-b01a-3555efd85b48",
      "metadata": {
        "id": "a16f24fe-4576-494a-b01a-3555efd85b48"
      },
      "outputs": [],
      "source": [
        "The binomial distribution is used when:\n",
        "There are a fixed number of trials (n).\n",
        "Each trial has only two possible outcomes (success or failure).\n",
        "The probability of success (p) remains constant for each trial.\n",
        "The trials are independent."
      ]
    },
    {
      "cell_type": "code",
      "execution_count": null,
      "id": "f1ecb45b-4adb-4a40-a72e-f3e09c322dea",
      "metadata": {
        "id": "f1ecb45b-4adb-4a40-a72e-f3e09c322dea"
      },
      "outputs": [],
      "source": [
        "9. Explain the properties of the normal distribution and the empirical rule (68-95-99.7 rule)."
      ]
    },
    {
      "cell_type": "code",
      "execution_count": null,
      "id": "db4bb99d-8527-47d6-adfc-81e3f511ecdb",
      "metadata": {
        "id": "db4bb99d-8527-47d6-adfc-81e3f511ecdb"
      },
      "outputs": [],
      "source": [
        "The normal distribution (bell curve) is symmetric with a single peak. It's characterized by:\n",
        "Mean = Median = Mode\n",
        "About 68% of data lies within 1 standard deviation of the mean.\n",
        "About 95% of data lies within 2 standard deviations of the mean.\n",
        "About 99.7% of data lies within 3 standard deviations of the mean."
      ]
    },
    {
      "cell_type": "code",
      "execution_count": null,
      "id": "aa6c028b-1497-480e-871c-353c34a435b2",
      "metadata": {
        "id": "aa6c028b-1497-480e-871c-353c34a435b2"
      },
      "outputs": [],
      "source": [
        "10. Provide a real-life example of a Poisson process and calculate the probability for a specific event."
      ]
    },
    {
      "cell_type": "code",
      "execution_count": null,
      "id": "ce7f2559-db86-4e08-b74c-ea7289af09c3",
      "metadata": {
        "id": "ce7f2559-db86-4e08-b74c-ea7289af09c3"
      },
      "outputs": [],
      "source": [
        "Number of cars arriving at a toll booth in an hour.\n",
        "Number of earthquakes in a year.\n",
        "Number of typos on a page.\n",
        "The probability of a specific event is calculated using the Poisson probability formula."
      ]
    },
    {
      "cell_type": "code",
      "execution_count": null,
      "id": "fda24e5b-0439-45a4-bb46-aa808d4565ee",
      "metadata": {
        "id": "fda24e5b-0439-45a4-bb46-aa808d4565ee"
      },
      "outputs": [],
      "source": [
        "11. Explain what a random variable is and differentiate between discrete and continuous random variables."
      ]
    },
    {
      "cell_type": "code",
      "execution_count": null,
      "id": "2a904068-f2d7-494a-9c7c-45b5242beecf",
      "metadata": {
        "id": "2a904068-f2d7-494a-9c7c-45b5242beecf"
      },
      "outputs": [],
      "source": [
        "A random variable is a variable whose value is a numerical outcome of a random phenomenon.\n",
        "Discrete random variables can take on only a countable number of values. Examples: Number of children in a family, dice roll.\n",
        "Continuous random variables can take on any value within a given range. Examples: Height, weight, time."
      ]
    },
    {
      "cell_type": "code",
      "execution_count": null,
      "id": "74b93afa-939b-4617-a9bb-1f1244810bf3",
      "metadata": {
        "id": "74b93afa-939b-4617-a9bb-1f1244810bf3"
      },
      "outputs": [],
      "source": [
        "12. Provide an example dataset, calculate both covariance and correlation, and interpret the results."
      ]
    },
    {
      "cell_type": "code",
      "execution_count": null,
      "id": "fcbee748-530e-4f43-8c52-44b8a9275d57",
      "metadata": {
        "id": "fcbee748-530e-4f43-8c52-44b8a9275d57"
      },
      "outputs": [],
      "source": [
        "Example dataset: Let's say we have the following data for student hours of study and their exam scores:\n",
        "\n",
        "Hours studied (X): 2, 4, 5, 6, 7\n",
        "Exam scores (Y): 60, 70, 80, 90, 100\n",
        "Covariance: Measures how two variables change together.\n",
        "\n",
        "Calculate the covariance using the formula:\n",
        "Cov(X, Y) = Σ[(Xi - X̄)(Yi - Ȳ)] / n-1\n",
        "Interpret: A positive covariance indicates that the variables tend to increase together, while a negative covariance indicates they tend to move in opposite directions.\n",
        "Correlation: Measures the strength and direction of the linear relationship between two variables."
      ]
    }
  ],
  "metadata": {
    "kernelspec": {
      "display_name": "Python 3 (ipykernel)",
      "language": "python",
      "name": "python3"
    },
    "language_info": {
      "codemirror_mode": {
        "name": "ipython",
        "version": 3
      },
      "file_extension": ".py",
      "mimetype": "text/x-python",
      "name": "python",
      "nbconvert_exporter": "python",
      "pygments_lexer": "ipython3",
      "version": "3.12.4"
    },
    "colab": {
      "provenance": [],
      "include_colab_link": true
    }
  },
  "nbformat": 4,
  "nbformat_minor": 5
}