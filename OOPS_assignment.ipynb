{
  "nbformat": 4,
  "nbformat_minor": 0,
  "metadata": {
    "colab": {
      "provenance": [],
      "authorship_tag": "ABX9TyPXHjArRGrVwpFfC63GNOeL",
      "include_colab_link": true
    },
    "kernelspec": {
      "name": "python3",
      "display_name": "Python 3"
    },
    "language_info": {
      "name": "python"
    }
  },
  "cells": [
    {
      "cell_type": "markdown",
      "metadata": {
        "id": "view-in-github",
        "colab_type": "text"
      },
      "source": [
        "<a href=\"https://colab.research.google.com/github/sathish0243/assignment-2/blob/main/OOPS_assignment.ipynb\" target=\"_parent\"><img src=\"https://colab.research.google.com/assets/colab-badge.svg\" alt=\"Open In Colab\"/></a>"
      ]
    },
    {
      "cell_type": "code",
      "source": [
        "#1. What are the five key concepts of Object-Oriented Programming (OOP)?"
      ],
      "metadata": {
        "id": "zMZlc3UD7EuY"
      },
      "execution_count": null,
      "outputs": []
    },
    {
      "cell_type": "code",
      "source": [
        "#The five key concepts of Object-Oriented Programming (OOP) they are :\n",
        "#Inhetence,Abstraction,polymorphism,class,function,coupling these are the key concepts of oops"
      ],
      "metadata": {
        "id": "85JCo2t87XOJ"
      },
      "execution_count": null,
      "outputs": []
    },
    {
      "cell_type": "code",
      "source": [
        "#2. Write a Python class for a `Car` with attributes for `make`, `model`, and `year`. Include a method to display\n",
        "#the car's information."
      ],
      "metadata": {
        "id": "7IWMkO0L9DGY"
      },
      "execution_count": null,
      "outputs": []
    },
    {
      "cell_type": "code",
      "source": [
        "class Car:\n",
        "    def __init__(self, make, model, year):\n",
        "        self.make = make\n",
        "        self.model = model\n",
        "        self.year = year\n",
        "\n",
        "    def display_info(self):\n",
        "        print(f\"Make: {self.make}\")\n",
        "        print(f\"Model: {self.model}\")\n",
        "        print(f\"Year: {self.year}\")\n"
      ],
      "metadata": {
        "id": "2dBVtgKj9VoB"
      },
      "execution_count": null,
      "outputs": []
    },
    {
      "cell_type": "code",
      "source": [
        "#3. Explain the difference between instance methods and class methods. Provide an example of each."
      ],
      "metadata": {
        "id": "o0M_i0tQ9gJ6"
      },
      "execution_count": null,
      "outputs": []
    },
    {
      "cell_type": "code",
      "source": [
        "#Instance Methods: It belongs to individual objects of an class\n",
        "#use the self keyword to access the objects\n",
        "#example\n",
        "class Person:\n",
        "    def __init__(self, name, age):\n",
        "        self.name = name\n",
        "        self.age = age\n",
        "\n",
        "    def greet(self):\n",
        "        print(f\"Hello, my name is {self.name} and I am {self.age} years old.\")\n",
        "#class method : In this class method it belong to the class it self\n",
        "#use clc arrgument to reffer the class itself\n",
        "#example\n",
        "class Animal:\n",
        "    species = \"Animal\"\n",
        "\n",
        "    @classmethod\n",
        "    def get_species(cls):\n",
        "        return cls.species"
      ],
      "metadata": {
        "id": "yO2PvFVX9pJI"
      },
      "execution_count": null,
      "outputs": []
    },
    {
      "cell_type": "code",
      "source": [
        "#4. How does Python implement method overloading? Give an example"
      ],
      "metadata": {
        "id": "mYmvRJlV-oMA"
      },
      "execution_count": null,
      "outputs": []
    },
    {
      "cell_type": "code",
      "source": [
        "#python does not support directly over loading method\n",
        "#but we can achive a similar effect using argument unpaching and defult argument\n",
        "#example\n",
        "class Calculator:\n",
        "    def add(self, *args):\n",
        "        if len(args) == 2:\n",
        "            return args[0] + args[1]\n",
        "        elif len(args) > 2:\n",
        "            return sum(args)\n",
        "        else:\n",
        "            raise ValueError(\"Invalid number of arguments\")"
      ],
      "metadata": {
        "id": "YdXexZdB-xdK"
      },
      "execution_count": null,
      "outputs": []
    },
    {
      "cell_type": "code",
      "source": [
        "#5. What are the three types of access modifiers in Python? How are they denoted?"
      ],
      "metadata": {
        "id": "G7rh1Xx3_hOI"
      },
      "execution_count": null,
      "outputs": []
    },
    {
      "cell_type": "code",
      "source": [
        "#Python doesn't have explicit access modifiers like public, private, or protected\n",
        "#ame mangling is a process where Python automatically prefixes private attributes and methods with a double underscore (__) when they are defined within a class.\n",
        "#Private: Attributes and methods prefixed with a double underscore (__) are considered private. They are not directly accessible from outside the class.\n",
        "#example:\n",
        "class MyClass:\n",
        "    def __private_method(self):\n",
        "        print(\"This is a private method\")\n",
        "#Protected: While Python doesn't have a strict concept of protected attributes, attributes and methods that start with a single underscore (_) are often considered protected. This indicates that they are intended for internal use within the class or its subclasses, but can be accessed from outside if necessary. For example:\n",
        "#example:\n",
        "#class myclass:\n",
        "    def _protected_method(self):\n",
        "        print(\"This is a protected method\")\n",
        "#Public: Attributes and methods that don't start with an underscore are considered public and can be freely accessed from outside the class.\n",
        "#example\n",
        "class MyClass:\n",
        "    def public_method(self):\n",
        "        print(\"This is a public method\")"
      ],
      "metadata": {
        "id": "oqmrpcS2_leB"
      },
      "execution_count": null,
      "outputs": []
    },
    {
      "cell_type": "code",
      "source": [
        "#6. Describe the five types of inheritance in Python. Provide a simple example of multiple inheritance."
      ],
      "metadata": {
        "id": "cIG-4BluBAm-"
      },
      "execution_count": null,
      "outputs": []
    },
    {
      "cell_type": "code",
      "source": [
        "#python supports five types of inheritance\n",
        "#1.Single Inheritance: A derived class inherits from a single base class.\n",
        "#2.Multiple Inheritance: A derived class inherits from multiple base classes.\n",
        "#3.Multilevel Inheritance: A derived class inherits from another derived class.\n",
        "#4.Hierarchical Inheritance: Multiple derived classes inherit from a single base class.\n",
        "#5.Hybrid Inheritance: A combination of two or more types of inheritance.\n",
        "#example for multiple inheritance\n",
        "class Animal:\n",
        "    def __init__(self, name):\n",
        "        self.name = name\n",
        "\n",
        "    def speak(self):\n",
        "        pass\n",
        "\n",
        "class Dog(Animal):\n",
        "    def speak(self):\n",
        "        print(f\"{self.name} barks.\")\n",
        "\n",
        "class Cat(Animal):\n",
        "    def speak(self):\n",
        "        print(f\"{self.name} meows.\")\n",
        "\n",
        "class DogCat(Dog, Cat):\n",
        "    pass"
      ],
      "metadata": {
        "id": "9tPDyJ_tBK7p"
      },
      "execution_count": null,
      "outputs": []
    },
    {
      "cell_type": "code",
      "source": [
        "#7. What is the Method Resolution Order (MRO) in Python? How can you retrieve it programmatically?"
      ],
      "metadata": {
        "id": "72LzV1_C9GYv"
      },
      "execution_count": null,
      "outputs": []
    },
    {
      "cell_type": "code",
      "source": [
        "#MRO is the order in which Python searches for methods or attributes when you access them on an instance of a class that inherits from multiple base classes.\n",
        "# It ensures that methods are called in a predictable and consistent manner, avoiding ambiguity and potential conflicts\n",
        "#Retrieving MRO Programmatically :\n",
        "class A:\n",
        "    pass\n",
        "\n",
        "class B(A):\n",
        "    pass\n",
        "\n",
        "class C(A):\n",
        "    pass\n",
        "\n",
        "class D(B, C):\n",
        "    pass\n",
        "\n",
        "print(D.__mro__)"
      ],
      "metadata": {
        "id": "eIRdHfPo9MjO"
      },
      "execution_count": null,
      "outputs": []
    },
    {
      "cell_type": "code",
      "source": [
        "#8. Create an abstract base class `Shape` with an abstract method `area()`. Then create two subclasses\n",
        "#`Circle` and `Rectangle` that implement the `area()` method."
      ],
      "metadata": {
        "id": "OtGwzgLK-GTJ"
      },
      "execution_count": null,
      "outputs": []
    },
    {
      "cell_type": "code",
      "source": [
        "from abc import ABC, abstractmethod\n",
        "\n",
        "class Shape(ABC):\n",
        "    @abstractmethod\n",
        "    def area(self):\n",
        "        pass\n",
        "\n",
        "class Circle(Shape):\n",
        "    def __init__(self, radius):\n",
        "        self.radius = radius\n",
        "\n",
        "    def area(self):\n",
        "        return 3.14159 * self.radius ** 2\n",
        "\n",
        "class Rectangle(Shape):\n",
        "    def __init__(self, length, width):\n",
        "        self.length = length\n",
        "        self.width = width\n",
        "\n",
        "    def area(self):\n",
        "        return self.length * self.width\n",
        "\n",
        "# Create instances of Circle and Rectangle\n",
        "circle = Circle(5)\n",
        "rectangle = Rectangle(4, 6)\n",
        "\n",
        "# Calculate and print their areas\n",
        "print(\"Circle area:\", circle.area())\n",
        "print(\"Rectangle area:\", rectangle.area())"
      ],
      "metadata": {
        "id": "0GHacQfm-Rv6"
      },
      "execution_count": null,
      "outputs": []
    },
    {
      "cell_type": "code",
      "source": [
        "#This code defines an abstract base class Shape with an abstract method area(). The @abstractmethod decorator ensures that any subclass of Shape must implement the area() method.\n",
        "#The Circle and Rectangle classes inherit from Shape and provide their own implementations of the area() method, calculating the area based on their respective properties"
      ],
      "metadata": {
        "id": "UNRySSMg-fFu"
      },
      "execution_count": null,
      "outputs": []
    },
    {
      "cell_type": "code",
      "source": [
        "#9. Demonstrate polymorphism by creating a function that can work with different shape objects to calculate\n",
        "#and print their areas."
      ],
      "metadata": {
        "id": "FWB2C7z8-uXf"
      },
      "execution_count": null,
      "outputs": []
    },
    {
      "cell_type": "code",
      "source": [
        "def calculate_and_print_area(shape):\n",
        "    \"\"\"Calculates and prints the area of a Shape object.\"\"\"\n",
        "    area = shape.area()\n",
        "    print(f\"The area of the {shape.__class__.__name__} is: {area}\")\n",
        "\n",
        "# Create instances of Circle and Rectangle\n",
        "circle = Circle(5)\n",
        "rectangle = Rectangle(4, 6)\n",
        "\n",
        "# Call the function with different shape objects\n",
        "calculate_and_print_area(circle)\n",
        "calculate_and_print_area(rectangle)"
      ],
      "metadata": {
        "id": "Aty6pAlu-1NJ"
      },
      "execution_count": null,
      "outputs": []
    },
    {
      "cell_type": "code",
      "source": [
        "#This code demonstrates polymorphism by creating a function calculate_and_print_area() that can work with any object that is a subclass of Shape. The function calls the area() method on the passed shape object, which is guaranteed to exist because area() is an abstract method in Shape"
      ],
      "metadata": {
        "id": "OucNMD0g_obt"
      },
      "execution_count": null,
      "outputs": []
    },
    {
      "cell_type": "code",
      "source": [
        "#10. Implement encapsulation in a `BankAccount` class with private attributes for `balance` and\n",
        "#`account_number`. Include methods for deposit, withdrawal, and balance inquiry"
      ],
      "metadata": {
        "id": "fs_9awbQ_rDF"
      },
      "execution_count": null,
      "outputs": []
    },
    {
      "cell_type": "code",
      "source": [
        "#class BankAccount:\n",
        "    def __init__(self, account_number, initial_balance):\n",
        "        self.__account_number = account_number\n",
        "        self.__balance = initial_balance\n",
        "\n",
        "    def deposit(self, amount):\n",
        "        if amount > 0:\n",
        "            self.__balance += amount\n",
        "            print(f\"Deposited {amount}. New balance: {self.__balance}\")\n",
        "        else:\n",
        "            print(\"Invalid deposit amount.\")\n",
        "\n",
        "    def withdraw(self, amount):\n",
        "        if amount > 0 and amount <= self.__balance:\n",
        "            self.__balance -= amount\n",
        "            print(f\"Withdrew {amount}. New balance: {self.__balance}\")\n",
        "        else:\n",
        "            print(\"Invalid withdrawal amount or insufficient funds.\")\n",
        "\n",
        "    def get_balance(self):\n",
        "        return self.__balance"
      ],
      "metadata": {
        "id": "Cp7dPo5d_yc6"
      },
      "execution_count": null,
      "outputs": []
    },
    {
      "cell_type": "code",
      "source": [
        "#11. Write a class that overrides the `__str__` and `__add__` magic methods. What will these methods allow\n",
        "#you to do?"
      ],
      "metadata": {
        "id": "PNQspeiDABv7"
      },
      "execution_count": null,
      "outputs": []
    },
    {
      "cell_type": "code",
      "source": [
        "class MyCustomClass:\n",
        "    def __init__(self, value):\n",
        "        self.value = value\n",
        "\n",
        "    def __str__(self):\n",
        "        return f\"MyCustomClass object with value: {self.value}\"\n",
        "\n",
        "    def __add__(self, other):\n",
        "        if isinstance(other, MyCustomClass):\n",
        "            return MyCustomClass(self.value + other.value)\n",
        "        else:\n",
        "            raise TypeError(\"Can only add to another MyCustomClass object.\")"
      ],
      "metadata": {
        "id": "jXsbpE1lAFCu"
      },
      "execution_count": null,
      "outputs": []
    },
    {
      "cell_type": "code",
      "source": [
        "#Custom string representation: You can control how your objects are displayed when printed or converted to strings.\n",
        "#Operator overloading: You can redefine the behavior of operators (like +) for your custom objects, making them more intuitive and easier to use."
      ],
      "metadata": {
        "id": "OYE9PFdBAQdY"
      },
      "execution_count": null,
      "outputs": []
    },
    {
      "cell_type": "code",
      "source": [
        "#12. Create a decorator that measures and prints the execution time of a function."
      ],
      "metadata": {
        "id": "UJqJay1OAc41"
      },
      "execution_count": null,
      "outputs": []
    },
    {
      "cell_type": "code",
      "source": [
        "import time\n",
        "\n",
        "def measure_time(func):\n",
        "    def wrapper(*args, **kwargs):\n",
        "        start_time = time.time()\n",
        "        result = func(*args, **kwargs)\n",
        "        end_time = time.time()\n",
        "        elapsed_time = end_time - start_time\n",
        "        print(f\"{func.__name__} took {elapsed_time:.5f} seconds to execute.\")\n",
        "        return result\n",
        "    return wrapper\n",
        "\n",
        "@measure_time\n",
        "def my_function(x, y):\n",
        "    time.sleep(2)\n",
        "    return x + y\n",
        "\n",
        "result = my_function(5, 10)\n",
        "print(result)"
      ],
      "metadata": {
        "id": "vc3XPiBLAvQ4"
      },
      "execution_count": null,
      "outputs": []
    },
    {
      "cell_type": "code",
      "source": [
        "#When you call my_function, the wrapper function is executed. It measures the time taken by the original my_function and prints the result. This decorator can be applied to any function to measure its execution time."
      ],
      "metadata": {
        "id": "NJvcHI14A1tR"
      },
      "execution_count": null,
      "outputs": []
    },
    {
      "cell_type": "code",
      "source": [
        "#13. Explain the concept of the Diamond Problem in multiple inheritance. How does Python resolve it?"
      ],
      "metadata": {
        "id": "gzaY6aUmA9LR"
      },
      "execution_count": null,
      "outputs": []
    },
    {
      "cell_type": "code",
      "source": [
        "#The Diamond Problem occurs in multiple inheritance when a class inherits from two base classes that have a common ancestor. This creates a diamond-shaped hierarchy, and there can be ambiguity about which version of a method or attribute to use when accessing it from the derived class.\n",
        "#example"
      ],
      "metadata": {
        "id": "y4ZGyW07BA-U"
      },
      "execution_count": null,
      "outputs": []
    },
    {
      "cell_type": "code",
      "source": [
        "class A:\n",
        "    def method(self):\n",
        "        print(\"A.method\")\n",
        "\n",
        "class B(A):\n",
        "    pass\n",
        "\n",
        "class C(A):\n",
        "    def method(self):\n",
        "        print(\"C.method\")\n",
        "\n",
        "class D(B, C):\n",
        "    pass"
      ],
      "metadata": {
        "id": "wP3ThqapBI9S"
      },
      "execution_count": null,
      "outputs": []
    },
    {
      "cell_type": "code",
      "source": [
        "#Python uses the C3 linearization algorithm to resolve the Diamond Problem\n",
        "#Parent before child: A parent class appears in the MRO before its child class.\n",
        "#Left before right: In multiple inheritance, the leftmost parent class appears before the rightmost.\n",
        "#No duplicate parents: A class appears only once in its MRO."
      ],
      "metadata": {
        "id": "hKIT6mfNBQgP"
      },
      "execution_count": null,
      "outputs": []
    },
    {
      "cell_type": "code",
      "source": [
        "#14. Write a class method that keeps track of the number of instances created from a class"
      ],
      "metadata": {
        "id": "JlvcMchZBbTE"
      },
      "execution_count": null,
      "outputs": []
    },
    {
      "cell_type": "code",
      "source": [
        "class MyClass:\n",
        "    count = 0\n",
        "\n",
        "    def __init__(self):\n",
        "        MyClass.count += 1\n",
        "\n",
        "    @classmethod\n",
        "    def get_instance_count(cls):\n",
        "        return cls.count\n",
        "\n",
        "# Create instances\n",
        "obj1 = MyClass()\n",
        "obj2 = MyClass()\n",
        "obj3 = MyClass()\n",
        "\n",
        "# Get the instance count\n",
        "print(MyClass.get_instance_count())  # Output: 3\n",
        "#By using a class attribute and a class method, we can track the number of instances created from the class without requiring any additional attributes or methods in the individual instances."
      ],
      "metadata": {
        "id": "9S2ata8GB1LZ"
      },
      "execution_count": null,
      "outputs": []
    },
    {
      "cell_type": "code",
      "source": [
        "#15. Implement a static method in a class that checks if a given year is a leap year."
      ],
      "metadata": {
        "id": "w9a7kZv3CQge"
      },
      "execution_count": null,
      "outputs": []
    },
    {
      "cell_type": "code",
      "source": [
        "class Calendar:\n",
        "    @staticmethod\n",
        "    def is_leap_year(year):\n",
        "        if year % 4 == 0:\n",
        "            if year % 100 == 0:\n",
        "                if year % 400 == 0:\n",
        "                    return True\n",
        "                else:\n",
        "                    return False\n",
        "            else:\n",
        "                return True\n",
        "        else:\n",
        "            return False\n",
        "\n",
        "# Check if 2024 is a leap year\n",
        "is_leap = Calendar.is_leap_year(2024)\n",
        "print(is_leap)  # Output: True\n",
        "#This static method can be used independently without creating an instance of the Calendar class, making it a convenient way to check for leap years."
      ],
      "metadata": {
        "id": "daLEjJ9YCTwi"
      },
      "execution_count": null,
      "outputs": []
    },
    {
      "cell_type": "code",
      "source": [],
      "metadata": {
        "id": "d2WOSOzdCrXl"
      },
      "execution_count": null,
      "outputs": []
    }
  ]
}